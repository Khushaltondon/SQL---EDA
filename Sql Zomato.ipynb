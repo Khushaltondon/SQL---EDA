{
 "cells": [
  {
   "cell_type": "markdown",
   "id": "1811c589",
   "metadata": {},
   "source": [
    "# --- Zomato SQL Poject ----\n"
   ]
  },
  {
   "cell_type": "markdown",
   "id": "d2a8fcb0",
   "metadata": {},
   "source": [
    "# Project Objective"
   ]
  },
  {
   "cell_type": "markdown",
   "id": "2bb11929",
   "metadata": {},
   "source": [
    "The project involved analyzing customer behavior on the Zomato platform, which is a food delivery, sales, and customer. The data used for the analysis was about Zomato sales based on membership, which contained information about sales, customers, products and membership."
   ]
  },
  {
   "cell_type": "markdown",
   "id": "01670c27",
   "metadata": {},
   "source": [
    "# Project Approach"
   ]
  },
  {
   "cell_type": "markdown",
   "id": "f59138f1",
   "metadata": {},
   "source": [
    "We approached the project first and had to clean the data to ensure that it was in a usable format. Checked any missing values and dealing with any data quality issues. Then used SQL queries to extract the data from the Zomato dataset and performed aggregate calculations on the data to answer the questions."
   ]
  },
  {
   "cell_type": "markdown",
   "id": "19c416c5",
   "metadata": {},
   "source": [
    "# Provided Task "
   ]
  },
  {
   "cell_type": "code",
   "execution_count": null,
   "id": "f1091693",
   "metadata": {},
   "outputs": [],
   "source": [
    " 1. What is the total amount each customer spent on zomato?\n",
    "    \n",
    "    SELECT S.userid, SUM(p.price) As Total_Amount_Spent \n",
    "    from sales S \n",
    "    join product p on S.product_id = P.product_id \n",
    "    GROUP BY S.userid;"
   ]
  },
  {
   "cell_type": "code",
   "execution_count": null,
   "id": "0e53b1b8",
   "metadata": {},
   "outputs": [],
   "source": [
    "2. How many days has each customer visited zomato?\n",
    "\n",
    "   SELECT userid, COUNT (DISTINCT created_date) AS Visited_Count \n",
    "   from sales \n",
    "   GROUP BY userid ;\n"
   ]
  },
  {
   "cell_type": "code",
   "execution_count": null,
   "id": "cd5e3854",
   "metadata": {},
   "outputs": [],
   "source": [
    "3. What was the first product purchased by each of the customer?\n",
    "\n",
    "   SELECT * \n",
    "   from (SELECT * \n",
    "          ,RANK() OVER(PARTITION by userid ORDER by created_date) as Ranking \n",
    "         from sales)s \n",
    "   where Ranking = 1 ;"
   ]
  },
  {
   "cell_type": "code",
   "execution_count": null,
   "id": "0e37b3e7",
   "metadata": {},
   "outputs": [],
   "source": [
    "4. What is the most purchased item on the menu and how many times was it purchased by all customers?\n",
    "\n",
    "    SELECT userid, COUNT(product_id) As Purchased_count \n",
    "    from sales \n",
    "    where product_id =(SELECT product_id \n",
    "                       from sales \n",
    "                       group by product_id ORDER by COUNT(product_id) DESC LIMIT 1) \n",
    "    group by userid ;"
   ]
  },
  {
   "cell_type": "code",
   "execution_count": null,
   "id": "c82f3d0f",
   "metadata": {},
   "outputs": [],
   "source": [
    "5.  Which item was the most popular for each customer?\n",
    "\n",
    "    SELECT * \n",
    "    from (SELECT *,rank() over (PARTITION by userid ORDER  by product_count DESC) AS RANKING \n",
    "          from(SELECT userid , product_id , count(product_id) As product_count \n",
    "               from sales \n",
    "               group by userid, product_id order by count(product_id) DESC) a )b\n",
    "    where RANKING = 1 ;"
   ]
  },
  {
   "cell_type": "code",
   "execution_count": null,
   "id": "f2143b9d",
   "metadata": {},
   "outputs": [],
   "source": [
    "6. Which item was purchased first by customer after they become a member ?\n",
    "  \n",
    "   SELECT * \n",
    "   FROM (SELECT m.*,rank() over(partition by userid order by created_date) ranking \n",
    "         from(SELECT s.userid,s.created_date,s.product_id,g.gold_signup_date \n",
    "              FROM sales As s INNER JOIN goldusers_signup AS g on s.userid=g.userid and created_date >= gold_signup_date) m)n\n",
    "   where ranking = 1 ;"
   ]
  },
  {
   "cell_type": "code",
   "execution_count": null,
   "id": "4c0a8658",
   "metadata": {},
   "outputs": [],
   "source": [
    "7. Which item was purchased just before the customer became a member?\n",
    "\n",
    "   SELECT * \n",
    "   FROM (SELECT m.*,rank() over(partition by userid order by created_date) ranking \n",
    "         from(SELECT s.userid,s.created_date,s.product_id,g.gold_signup_date \n",
    "              FROM sales As s INNER JOIN goldusers_signup AS g on s.userid=g.userid and created_date <= gold_signup_date) m)n\n",
    "   where ranking = 1 ;"
   ]
  },
  {
   "cell_type": "code",
   "execution_count": null,
   "id": "d3861138",
   "metadata": {},
   "outputs": [],
   "source": [
    "8. what is total orders and amount spent for each member before they become a member?\n",
    "\n",
    "   SELECT userid, COUNT(created_date) Order_purchased, SUM(price) total_amount_spent \n",
    "   from(SELECT b.*, c.price \n",
    "        FROM(SELECT s.userid,s.created_date,s.product_id,g.gold_signup_date \n",
    "             FROM sales As s INNER JOIN goldusers_signup AS g on s.userid=g.userid and created_date <= gold_signup_date) b    \n",
    "             INNER JOIN Product c ON b.product_id=c.product_id) u \n",
    "   GROUP By userid ;\n"
   ]
  },
  {
   "cell_type": "code",
   "execution_count": null,
   "id": "fda012df",
   "metadata": {},
   "outputs": [],
   "source": [
    "9. Ranking all the transaction of the customers \n",
    "\n",
    "     SELECT *\n",
    "      , RANK() OVER(PARTITION BY userid ORDER BY created_date) AS RANKING  \n",
    "     from sales ;"
   ]
  },
  {
   "cell_type": "code",
   "execution_count": null,
   "id": "616a47f1",
   "metadata": {},
   "outputs": [],
   "source": [
    "10. Ranking all transaction for each member whenever they are zomato goldmember for every non goldmember transaction mark as NA \n",
    "\n",
    "    SELECT t.*\n",
    "     , case when RANKING = 0 THEN 'NA' ELSE RANKING END AS RNK_TRANSACTION \n",
    "     FROM (select e.*\n",
    "           , CAST((CASE WHEN gold_signup_date IS NULL THEN 0 ELSE RANK() OVER(PARTITION BY userid ORDER BY created_date DESC)\n",
    "                   END) AS VARCHAR) AS RANKING \n",
    "           FROM (SELECT s.userid,s.created_date,s.product_id,g.gold_signup_date \n",
    "                 FROM sales As s LEFT JOIN goldusers_signup AS g on s.userid=g.userid and created_date >= gold_signup_date)e)t\n",
    "\n"
   ]
  }
 ],
 "metadata": {
  "kernelspec": {
   "display_name": "Python 3 (ipykernel)",
   "language": "python",
   "name": "python3"
  },
  "language_info": {
   "codemirror_mode": {
    "name": "ipython",
    "version": 3
   },
   "file_extension": ".py",
   "mimetype": "text/x-python",
   "name": "python",
   "nbconvert_exporter": "python",
   "pygments_lexer": "ipython3",
   "version": "3.9.13"
  }
 },
 "nbformat": 4,
 "nbformat_minor": 5
}
